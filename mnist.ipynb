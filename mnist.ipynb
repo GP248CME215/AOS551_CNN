{
 "cells": [
  {
   "cell_type": "markdown",
   "metadata": {},
   "source": [
    "# Tensorflow Tutorial on Using CNN to Train MNIST Dataset"
   ]
  },
  {
   "cell_type": "code",
   "execution_count": 8,
   "metadata": {},
   "outputs": [],
   "source": [
    "import matplotlib.pyplot as plt\n",
    "import numpy as np\n",
    "import tensorflow as tf"
   ]
  },
  {
   "cell_type": "markdown",
   "metadata": {},
   "source": [
    "## Load MNIST dataset downloaded from http://yann.lecun.com/exdb/mnist/\n",
    "- the data file is idx file format\n",
    "- Don't bother to learn what the format is, use the functions we create to tranform data into numpy arrays\n",
    "- However, be sure to understand the content of numpy arrays\n",
    "\n",
    "### Understand the content of loaded image\n",
    "- We have two set of data: train set with 60000 images, test set with 100000 images\n",
    "- the image size is 28 x 28, the numerical range is **normalized** to [0, 255]\n",
    "- the labels are intergers from 0 to 9"
   ]
  },
  {
   "cell_type": "code",
   "execution_count": 24,
   "metadata": {},
   "outputs": [
    {
     "name": "stdout",
     "output_type": "stream",
     "text": [
      "Loaded of train set has an array of shape (60000, 28, 28) for images, (60000, 1) for labels\n",
      "Loaded of test set has an array of shape (10000, 28, 28)  for images, (10000, 1) for labels\n",
      "The values of 10th label in train set: [3.]\n",
      "The values of 10th image in train set:\n",
      "[[  0.   0.   0.   0.   0.   0.   0.   0.   0.   0.   0.   0.   0.   0.   0.   0.   0.   0.   0.   0.   0.   0.   0.   0.   0.   0.   0.   0.]\n",
      " [  0.   0.   0.   0.   0.   0.   0.   0.   0.   0.   0.   0.   0.   0.   0.   0.   0.   0.   0.   0.   0.   0.   0.   0.   0.   0.   0.   0.]\n",
      " [  0.   0.   0.   0.   0.   0.   0.   0.   0.   0.   0.   0.   0.   0.   0.   0.   0.   0.   0.   0.   0.   0.   0.   0.   0.   0.   0.   0.]\n",
      " [  0.   0.   0.   0.   0.   0.   0.   0.   0.   0.   0.   0.   0.   0.   0.   0.   0.   0.   0.   0.   0.   0.   0.   0.   0.   0.   0.   0.]\n",
      " [  0.   0.   0.   0.   0.   0.   0.   0.   0.   0.   0.  42. 118. 219. 166. 118. 118.   6.   0.   0.   0.   0.   0.   0.   0.   0.   0.   0.]\n",
      " [  0.   0.   0.   0.   0.   0.   0.   0.   0.   0. 103. 242. 254. 254. 254. 254. 254.  66.   0.   0.   0.   0.   0.   0.   0.   0.   0.   0.]\n",
      " [  0.   0.   0.   0.   0.   0.   0.   0.   0.   0.  18. 232. 254. 254. 254. 254. 254. 238.  70.   0.   0.   0.   0.   0.   0.   0.   0.   0.]\n",
      " [  0.   0.   0.   0.   0.   0.   0.   0.   0.   0.   0. 104. 244. 254. 224. 254. 254. 254. 141.   0.   0.   0.   0.   0.   0.   0.   0.   0.]\n",
      " [  0.   0.   0.   0.   0.   0.   0.   0.   0.   0.   0.   0. 207. 254. 210. 254. 254. 254.  34.   0.   0.   0.   0.   0.   0.   0.   0.   0.]\n",
      " [  0.   0.   0.   0.   0.   0.   0.   0.   0.   0.   0.   0.  84. 206. 254. 254. 254. 254.  41.   0.   0.   0.   0.   0.   0.   0.   0.   0.]\n",
      " [  0.   0.   0.   0.   0.   0.   0.   0.   0.   0.   0.   0.   0.  24. 209. 254. 254. 254. 171.   0.   0.   0.   0.   0.   0.   0.   0.   0.]\n",
      " [  0.   0.   0.   0.   0.   0.   0.   0.   0.   0.   0.   0.  91. 137. 253. 254. 254. 254. 112.   0.   0.   0.   0.   0.   0.   0.   0.   0.]\n",
      " [  0.   0.   0.   0.   0.   0.   0.   0.   0.   0.  40. 214. 250. 254. 254. 254. 254. 254.  34.   0.   0.   0.   0.   0.   0.   0.   0.   0.]\n",
      " [  0.   0.   0.   0.   0.   0.   0.   0.   0.   0.  81. 247. 254. 254. 254. 254. 254. 254. 146.   0.   0.   0.   0.   0.   0.   0.   0.   0.]\n",
      " [  0.   0.   0.   0.   0.   0.   0.   0.   0.   0.   0. 110. 246. 254. 254. 254. 254. 254. 171.   0.   0.   0.   0.   0.   0.   0.   0.   0.]\n",
      " [  0.   0.   0.   0.   0.   0.   0.   0.   0.   0.   0.   0.  73.  89.  89.  93. 240. 254. 171.   0.   0.   0.   0.   0.   0.   0.   0.   0.]\n",
      " [  0.   0.   0.   0.   0.   0.   0.   0.   0.   0.   0.   0.   0.   0.   0.   1. 128. 254. 219.  31.   0.   0.   0.   0.   0.   0.   0.   0.]\n",
      " [  0.   0.   0.   0.   0.   0.   0.   0.   0.   0.   0.   0.   0.   0.   0.   7. 254. 254. 214.  28.   0.   0.   0.   0.   0.   0.   0.   0.]\n",
      " [  0.   0.   0.   0.   0.   0.   0.   0.   0.   0.   0.   0.   0.   0.   0. 138. 254. 254. 116.   0.   0.   0.   0.   0.   0.   0.   0.   0.]\n",
      " [  0.   0.   0.   0.   0.   0.  19. 177.  90.   0.   0.   0.   0.   0.  25. 240. 254. 254.  34.   0.   0.   0.   0.   0.   0.   0.   0.   0.]\n",
      " [  0.   0.   0.   0.   0.   0. 164. 254. 215.  63.  36.   0.  51.  89. 206. 254. 254. 139.   8.   0.   0.   0.   0.   0.   0.   0.   0.   0.]\n",
      " [  0.   0.   0.   0.   0.   0.  57. 197. 254. 254. 222. 180. 241. 254. 254. 253. 213.  11.   0.   0.   0.   0.   0.   0.   0.   0.   0.   0.]\n",
      " [  0.   0.   0.   0.   0.   0.   0. 140. 105. 254. 254. 254. 254. 254. 254. 236.   0.   0.   0.   0.   0.   0.   0.   0.   0.   0.   0.   0.]\n",
      " [  0.   0.   0.   0.   0.   0.   0.   0.   7. 117. 117. 165. 254. 254. 239.  50.   0.   0.   0.   0.   0.   0.   0.   0.   0.   0.   0.   0.]\n",
      " [  0.   0.   0.   0.   0.   0.   0.   0.   0.   0.   0.   0.   0.   0.   0.   0.   0.   0.   0.   0.   0.   0.   0.   0.   0.   0.   0.   0.]\n",
      " [  0.   0.   0.   0.   0.   0.   0.   0.   0.   0.   0.   0.   0.   0.   0.   0.   0.   0.   0.   0.   0.   0.   0.   0.   0.   0.   0.   0.]\n",
      " [  0.   0.   0.   0.   0.   0.   0.   0.   0.   0.   0.   0.   0.   0.   0.   0.   0.   0.   0.   0.   0.   0.   0.   0.   0.   0.   0.   0.]\n",
      " [  0.   0.   0.   0.   0.   0.   0.   0.   0.   0.   0.   0.   0.   0.   0.   0.   0.   0.   0.   0.   0.   0.   0.   0.   0.   0.   0.   0.]]\n",
      "Display the image\n"
     ]
    },
    {
     "data": {
      "text/plain": [
       "<matplotlib.image.AxesImage at 0x7f0fe723ca60>"
      ]
     },
     "execution_count": 24,
     "metadata": {},
     "output_type": "execute_result"
    },
    {
     "data": {
      "image/png": "[encoded data removed]",
      "text/plain": [
       "<Figure size 432x288 with 1 Axes>"
      ]
     },
     "metadata": {
      "needs_background": "light"
     },
     "output_type": "display_data"
    }
   ],
   "source": [
    "def extract_image(file):\n",
    "    \"\"\"Extract the (normalized) image from the idx file\"\"\"\n",
    "    with open(file, \"rb\") as stream:\n",
    "        stream.read(4) # header\n",
    "        n_images = int.from_bytes(stream.read(4), byteorder=\"big\")\n",
    "        n_row = int.from_bytes(stream.read(4), byteorder=\"big\")\n",
    "        n_col = int.from_bytes(stream.read(4), byteorder=\"big\")\n",
    "        buf = stream.read(n_row * n_col * n_images)\n",
    "        data = np.frombuffer(buf, np.uint8).astype(np.float32)\n",
    "        data = data.reshape(n_images, n_row, n_col)\n",
    "        return data\n",
    "\n",
    "\n",
    "def extract_label(file):\n",
    "    \"\"\"Extract the label from the idx file\"\"\"\n",
    "    with open(file, \"rb\") as stream:\n",
    "        stream.read(4) # header\n",
    "        n_labels = int.from_bytes(stream.read(4), byteorder=\"big\")\n",
    "        buf = stream.read(n_labels)\n",
    "        data = np.frombuffer(buf, np.uint8).astype(np.float32)\n",
    "        data = data.reshape(n_labels, 1)\n",
    "        return data\n",
    "    \n",
    "\n",
    "train_images, train_labels = extract_image(\"./data/train-images.idx3-ubyte\"), extract_label(\"./data/train-labels.idx1-ubyte\")\n",
    "test_images, test_labels = extract_image(\"./data/t10k-images.idx3-ubyte\"), extract_label(\"./data/t10k-labels.idx1-ubyte\")\n",
    "\n",
    "print(f\"Loaded of train set has an array of shape {train_images.shape} for images, {train_labels.shape} for labels\")\n",
    "print(f\"Loaded of test set has an array of shape {test_images.shape}  for images, {test_labels.shape} for labels\")\n",
    "\n",
    "np.set_printoptions(precision=2, suppress=True, linewidth=150, threshold=np.inf)\n",
    "\n",
    "print(f\"The values of 10th label in train set: {train_labels[10, ...]}\")\n",
    "print(f\"The values of 10th image in train set:\")\n",
    "print(train_images[10, ...])\n",
    "\n",
    "%matplotlib inline\n",
    "print(\"Display the image\")\n",
    "plt.imshow(train_images[10, ...])"
   ]
  },
  {
   "cell_type": "code",
   "execution_count": null,
   "metadata": {},
   "outputs": [],
   "source": []
  }
 ],
 "metadata": {
  "interpreter": {
   "hash": "6c99cd35814c6ed696fcd3c978907400a4c0205633ed53172fac9d7fed6d4ad4"
  },
  "kernelspec": {
   "display_name": "Python 3.8.10 64-bit ('tf24': conda)",
   "name": "python3"
  },
  "language_info": {
   "codemirror_mode": {
    "name": "ipython",
    "version": 3
   },
   "file_extension": ".py",
   "mimetype": "text/x-python",
   "name": "python",
   "nbconvert_exporter": "python",
   "pygments_lexer": "ipython3",
   "version": "3.8.10"
  },
  "orig_nbformat": 4
 },
 "nbformat": 4,
 "nbformat_minor": 2
}
